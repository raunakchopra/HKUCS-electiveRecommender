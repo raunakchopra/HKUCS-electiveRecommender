{
  "nbformat": 4,
  "nbformat_minor": 0,
  "metadata": {
    "colab": {
      "name": "HKUcs.ipynb",
      "provenance": [],
      "collapsed_sections": []
    },
    "kernelspec": {
      "name": "python3",
      "display_name": "Python 3"
    },
    "language_info": {
      "name": "python"
    }
  },
  "cells": [
    {
      "cell_type": "code",
      "metadata": {
        "id": "QECp_mDCm-4c"
      },
      "source": [
        "import requests\n",
        "from bs4 import BeautifulSoup\n",
        "from rake_nltk import Rake\n",
        "rake_nltk_var = Rake()\n",
        "\n",
        "scraping_url = \"https://www.cs.hku.hk/programmes/course-offered\"\n",
        "\n",
        "re = requests.get(scraping_url)\n",
        "soup = BeautifulSoup(re.text, \"html.parser\")"
      ],
      "execution_count": 7,
      "outputs": []
    },
    {
      "cell_type": "code",
      "metadata": {
        "id": "X7CbwJE_nYB5"
      },
      "source": [
        "course_table = soup.find_all('tr')\n",
        "found_flag = 0\n",
        "for idx, tr in enumerate(course_table):\n",
        "  if tr.text[1:-1] == \"Year 2 to 4 - Elective\":\n",
        "    found_flag = idx\n",
        "    break\n",
        "\n",
        "elective_table = course_table[found_flag+1:]"
      ],
      "execution_count": 8,
      "outputs": []
    },
    {
      "cell_type": "code",
      "metadata": {
        "id": "leTe7s6RsuhU"
      },
      "source": [
        "import json\n",
        "\n",
        "elective_data = {}\n",
        "\n",
        "\n",
        "for elective in elective_table:\n",
        "  td = elective.find_all('td')\n",
        "  code = td[0].text\n",
        "  link = td[1].find('a')\n",
        "  course_name = link.text\n",
        "  course_link = \"www.cs.hku.hk\" + link['href']\n",
        "  course_data = {}\n",
        "  course_data['course_code'] =  str(code)\n",
        "  course_data['course_name'] = course_name\n",
        "  course_data['course_link'] = 'https://' + course_link\n",
        "  elective_data[code] = course_data\n",
        "\n",
        "y = json.dumps(elective_data)\n",
        "print(elective_data)\n"
      ],
      "execution_count": null,
      "outputs": []
    },
    {
      "cell_type": "code",
      "metadata": {
        "id": "-Q0gS9FENNXX"
      },
      "source": [
        "course_keywords = {}\n",
        "\n",
        "for course in elective_data:\n",
        "  course_object = elective_data.get(course)\n",
        "\n",
        "  re = requests.get(course_object.get('course_link'))\n",
        "  soup = BeautifulSoup(re.text, \"html.parser\")\n",
        "\n",
        "  page_tables = soup.find_all('table', {\n",
        "      'class': 'table_listdata_v4 table-responsive'\n",
        "  })\n",
        "\n",
        "  course_syllabus = page_tables[-1].find_all()\n",
        "  course_text = []\n",
        "  for i in range(0, len(course_syllabus)):\n",
        "    if('\\n' not in course_syllabus[i].text and not course_syllabus[i].text.isdigit()):\n",
        "      course_text.append(course_syllabus[i].text)\n",
        "  course_text = ','.join(course_text)\n",
        "  rake_nltk_var.extract_keywords_from_text(course_text)\n",
        "  keyword_extracted = rake_nltk_var.get_ranked_phrases()\n",
        "  course_keywords[course] = keyword_extracted\n",
        "  course_keywords[course] = set(course_keywords[course]) #for data cleaning\n",
        "  \n"
      ],
      "execution_count": 12,
      "outputs": []
    },
    {
      "cell_type": "markdown",
      "metadata": {
        "id": "WZE9d7JjBSzF"
      },
      "source": [
        ""
      ]
    },
    {
      "cell_type": "code",
      "metadata": {
        "colab": {
          "base_uri": "https://localhost:8080/"
        },
        "id": "PpYBjWSAZxBa",
        "outputId": "cc0a7b96-9bf2-47a2-bd93-e0ccbf1d56cf"
      },
      "source": [
        "for course in course_keywords:\n",
        "  course_keywords[course] = list(course_keywords[course])\n",
        "print(course_keywords)"
      ],
      "execution_count": 16,
      "outputs": [
        {
          "output_type": "stream",
          "name": "stdout",
          "text": [
            "{'COMP2501': ['data acquisition', 'data source', 'data visualization tools', 'data science', 'statistical inference', 'data manipulation', 'processing', 'feature engineering', 'exploratory data analysis', 'data pre', 'data preparation', 'manipulation', 'regression models', 'implementation', 'python', 'machine learning', 'visualization', 'data analysis', 'communication'], 'COMP2502': ['data structures library', 'oriented programming language', 'data structures', 'computing fundamentals', 'manipulate', 'object', 'applying data structures', 'basic algorithms', 'oriented programming principles', 'basic data structures'], 'COMP3231': ['cycle processors', 'design', 'cache', 'virtual memory', 'computer architecture evaluation', 'instruction set architecture', 'logic design', 'output', 'computer design', 'ic', 'basics', 'performance analysis', 'trends', 'multi', 'computer architecture design', 'cost', 'quantitative principles', 'power', 'main memory', 'computer architecture fundamentals', 'technology', 'buses', 'single', 'pipelining', 'input'], 'COMP3258': ['ghc compiler', 'functors', 'applicative functors', 'higher', 'algebraic datatypes', 'functional properties', '4', 'ghc interpreter', 'recursion', '1', 'tools', 'basics', '3', 'type classes', 'equational reasoning', 'functional programming', 'haskell mode', 'quickcheck', 'order functions', 'monads', 'advanced haskell', 'emacs'], 'COMP3259': ['data types', 'scopes', 'functional languages', 'object orientation', 'logic languages', 'control abstraction', 'names', 'semantic analysis', 'programming language fundamentals', 'data abstraction', 'subroutine', 'bindings', 'programming language implementation', 'programming language syntax', 'control flow', 'programming language design'], 'COMP3270A': ['environments', 'basic principles', 'reasoning', 'search techniques', 'concept', 'applications', 'problem solving', 'ai algorithms', 'uncertain knowledge', 'rationality', 'intelligent agents', 'agents', 'logical knowledge', 'logical', 'application programming'], 'COMP3270B': ['environments', 'basic principles', 'reasoning', 'search techniques', 'concept', 'applications', 'problem solving', 'ai algorithms', 'uncertain knowledge', 'rationality', 'intelligent agents', 'agents', 'logical knowledge', 'logical', 'application programming'], 'COMP3271': ['graphics hardware', 'clipping', 'overview', '2d transformations', 'colour models', 'viewing', 'opengl apis', 'surfaces', 'computer graphics tools', 'shading', 'computer graphics concepts', 'hidden', 'basic drawing algorithms', 'surface', 'computer graphics models', 'line removal', 'computer graphics algorithms', '3d transformations', 'curves', 'modelling', 'windowing', 'illumination models'], 'COMP3314A': ['clustering', 'introduction', 'ai', 'supervised learning', 'gaussian processes', 'principal components analysis', 'mixture models', 'decision theory', '1', 'applications', '3', 'unsupervised learning', 'data', '2', 'curve fitting', 'logistic regression', 'advanced topics', 'neural networks', 'linear classifiers', 'driven systems', 'principles'], 'COMP3314B': ['clustering', 'introduction', 'ai', 'supervised learning', 'gaussian processes', 'principal components analysis', 'mixture models', 'decision theory', '1', 'applications', '3', 'unsupervised learning', 'data', '2', 'curve fitting', 'logistic regression', 'advanced topics', 'neural networks', 'linear classifiers', 'driven systems', 'principles'], 'COMP3316': ['composite systems', 'quantum states', 'entanglement', 'quantum algorithms', 'quantum computation', 'cloning', 'quantum communication', '3', 'nonlocal games', 'quantum circuit model', 'measurements', 'basic rules', 'processes', 'steering', 'dense coding', '2', 'quantum key distribution', 'quantum teleportation'], 'COMP3317': ['dynamic programming', 'qr decomposition', 'false contouring', 'rigid body motion', 'corner detection', 'linear least squares', 'sharpening filters', 'cross', 'arithmetic operations', 'world position', 'planar affine imaging', 'linear spatial filtering', 'weak', 'pinhole camera', 'feature extraction', 'image interpretation', 'invariants', 'planar scene calibration', 'epipolar geometry', 'connectivity', 'scale edge detection', 'affine stereo', 'lines', 'image processing', 'line', 'sampling', 'full camera model', 'vanishing points', 'triangulation', 'image structure', 'calibration', 'digital image representation', 'convolution', 'correspondence problem', 'multi', 'projection matrix', 'color models', 'gram', 'affine cameras', 'homogeneous coordinates', '2d edge detection', 'ransac', 'camera calibration', 'aperture problem', 'smoothing', 'essential matrix decomposition', 'singular value decomposition', 'stereo vision', 'coordinate system', 'logic', 'perspective projection', 'ratio', '1d', 'ccd imaging', 'structure recovery', 'recovery', 'distance measures', 'camera model', 'nonlinear camera calibration', 'essential matrix', 'fundamental matrix', 'schmidt process'], 'COMP3320': ['technology infrastructure', 'commerce', 'introduction', 'smart contract', 'payment', 'web server', 'lab sessions', '1', 'commerce server', 'marketing', 'e', '3', 'additional case studies', 'comp3320 electronic commerce technology', '2', 'b2c', 'b2b e', 'commerce security', 'blockchain', 'project'], 'COMP3322A': ['www basics', 'web technology applications', 'art web technologies', 'dynamic web', 'html', 'cascading styling sheet', 'web technologies', 'dynamic web programming', 'state'], 'COMP3322B': ['www basics', 'web technology applications', 'art web technologies', 'dynamic web', 'html', 'cascading styling sheet', 'web technologies', 'dynamic web programming', 'state'], 'COMP3329': ['game project', 'design', 'team work', 'consideration', '3d game', 'motion', 'game history', 'effect', 'control', 'introduction', 'ai', 'connectivity', 'mmog design', 'platform', '2d', 'presentation', 'devices', 'game', 'game platform overview', '3d modeling', 'kinematics', 'industry visit', '2d game', 'team', 'user interface'], 'COMP3330': ['mobile apps', 'user interface design', 'multimedia', '5', 'mobile application development', 'server supported mobile applications', 'introduction', 'use', 'project work', '4', 'basic principles', 'technical components', 'constraints', 'platform tools', 'mobile apps development', 'lifecycle', 'concurrency', 'publication', '1', 'fundamentals', 'integration', 'knowledge', '3', 'local database', 'modern cross', 'design patterns', 'mobile applications', 'graphics', '2', 'sensors', 'handling', 'advanced topics', 'location services', 'network', 'testing'], 'COMP3340': ['others', 'finetune', 'case', 'face image generation', 'celeba', 'introduction', '4', 'able', 'g', 'alexnet', 'super resolution', '1', 'e', 'rl basics', 'q', '3', 'train cnn_dqn', 'convolutional neural networks', 'critic', 'actor', 'others ., 2', '2', 'image recognition', 'evaluate srgan', 'policy gradients', 'generative adversarial networks', 'sgd ., 2', 'hard attention', 'backpropagation', 'build neural networks', 'learning', 'evaluate deep neural networks', 'reinforcement learning', 'play atari ., 2'], 'COMP3352': ['mechanism design', 'economic theory', 'price', 'concept', 'equilibria', 'algorithms', '2', '3', 'complexity', 'analysis', 'anarchy', 'equilibria concepts', 'algorithmic mechanism design', '1', 'case studies', '4', 'computing equilibria'], 'COMP3355': ['5', 'analysis', 'mobile code security', 'introduction', '4', 'cyber threat assessment', 'web security', 'penetration testing', 'cryptography', 'models', 'computer', 'protection', 'internet security', 'symmetric key cryptography', '3', 'network security', 'secure systems', 'authentication techniques', 'application', '2', 'access control methods', 'public key cryptography', 'network'], 'COMP3356': ['perception', 'configuration space', 'transformation', 'basic control', 'robotics', 'point clouds', 'robot state representation', 'multiple', '1', 'geometry', 'trajectory optimization', 'search', 'pose estimation', 'applications', 'multi', 'inverse kinematics', '3', 'kinematics', 'motion planning', '2', 'view geometry', 'dynamics', 'path', 'advanced topics', 'robot system', 'principles', 'mechanics'], 'COMP3357': ['device', 'mac', 'cryptographic applications', 'identification', 'commerce', 'introduction', '4', 'quantum information', 'practical quantum cryptography', 'modern cryptography', 'public', 'pseudo', 'symmetric cryptography', 'block ciphers', 'key encryption', 'authenticated key exchange', 'e', 'basics', 'protocols', 'random bit generators', 'computational complexity based theory', '3', 'digital signatures', 'independent random bit generation ., 2', '2', 'quantum key distribution', 'one', 'trapdoor functions', 'bb84', 'way', 'stream ciphers', 'fundamental ideas', 'public key cryptography', 'quantum cryptography', 'hash function', 'hash functions'], 'COMP3358': ['facebook photo cache', 'amazon ec2 clouds', 'phase commits', 'remote procedure calls', 'backup algorithms', 'distributed consensus algorithms', 'webservices', 'message queues ), distributed transactions', 'spark', 'distributed fault', 'reduce paradigm', 'weak consistency models', 'laws', 'distributed', 'architectures', 'computer network primitives', 'hadoop', 'map', 'parallel computing concepts', 'two', 'actors', 'amdahl ’', 'tensorflow', 'tolerant architectures', 'dynamodb stores', 'distributed virtual machine primary', 'acid', 'monads', 'parallel computing architectures', 'strong'], 'COMP3360': ['physics based animation', 'skinning', 'inverse kinematics', 'forward kinematics', 'point', 'based animation', '3', 'learning physics', 'keyframe animation', 'character animation', '1', 'based methods', 'data driven character animation', 'introduction', '2', 'motion capture', 'learning shape deformation'], 'COMP3361': ['lexicalized context', 'learning ), regularization', 'parameter estimation', 'language models', 'em algorithm', 'linear models', 'word embeddings', 'syntactic structure', 'log', 'recurrent networks', 'fine', 'introduction', 'head words', 'features', 'transformers', 'noisy channel model', 'neural structured prediction', 'cfgs ), ambiguity', 'gpt', 'rnn language models', 'g', 'hmm ), viterbi algorithm', 'natural language processing', 'crf', '1', 'e', 'pretraining', 'probabilistic context', 'bigram', 'bert', 'feedforward networks', 'cky algorithm', 'based mt', 'ner ), generative models', 'attention mechanism', 'seq2seq models', 'tagging', 'multi', 'chain rule', '3', 'pos tagging', 'parsing', 'context', 'neural machine translation', 'alignment', 'computational graphs', 'smoothing', 'word2vec', '2', 'feedforward neural networks', 'dependency parsing ), 2', 'statistical machine translation', 'based parsing', 'tuning', 'nlp', 'lstms', 'head attention', 'history', 'phrase', 'entity recognition', 'neural networks', 'lstm gates', 'backpropagation', 'advanced', 'dependency parsing', 'trigram models', 'named', 'memm', 'loss function', 'hidden markov models', 'free grammars', 'contextualized word representation', 'computational linguistics'], 'COMP3362': ['implementation', 'art ai platforms', 'demonstration', '2', '3', 'problem identification', 'selected state', 'paced learning', '1', 'project', 'tools', 'presentation', 'ai methodologies', 'introduction', '4', 'experimentation cycle', 'self'], 'COMP3407': ['richardson extrapolation', 'qr decomposition', 'qr', 'least squares data fitting', 'steepest descent method', 'solve linear', 'golden section search', 'cotes quadrature', 'using gaussian elimination', 'newton method', 'data interpolation', 'proficient', 'norms', 'lu', 'floating point numbers', 'integrate', 'cancellation', 'numerical instability ., solving linear system', 'optimization', 'students', 'newton', 'non', 'fitting', 'newton interpolation', 'integration', 'rounding errors', 'differentiate numerical functions using forward difference approximation', 'relative', 'interpolate data', 'absolute errors', 'method', 'computer arithmetic', 'application', 'hermite interpolation', 'piecewise polynomial interpolation', 'linear equation systems', 'normal equation', 'newton ’', 'differentiation', 'bisection method', 'approximation', 'gaussian quadrature', 'optimization techniques', 'equation', 'lagrange interpolation', 'secant method respectively', 'condition numbers iterative methods', 'cholesky decomposition', 'composite rule', 'pivoting'], 'FITE2010': ['design', 'possible enhancements', 'distributed ledger ., applications', 'platform ., programming', 'designs', 'introduction', 'fite3011 distributed ledger', 'impact', 'distributed ledger', 'key components', 'g', 'existing platforms', 'existing distributed ledger platforms', 'limitations', 'e', 'ethereum )., cryptocurrency technology', 'best fit', 'constructing', 'rationale behind', 'smart contracts', 'possibilities', 'application', 'platform ., different cryptographic primitives', 'blockchain', 'distributed ledger technology', 'new applications', 'popular blockchain platform'], 'FITE3010': ['association rule mining', 'course content', 'data mining', 'database indexing', '3', 'data clustering', '4', 'textual big data', 'query evaluation', 'spatial big data', '1', 'data integration', 'spatial networks', 'query optimization', '2', 'information ranking', 'uncertain data management'], 'FITE3012': ['ethereum', 'emerging technologies', 'payment ., different security mechanisms', 'monero', '256', 'introduction', 'currency technologies', 'set', 'impact', 'payment', 'encryptions', 'google wallet', 'payment systems', 'g', 'elliptic curve cryptography', 'ecdlp', 'ripemd', 'ecdsa ); concrete hash functions', 'electronic check', 'e', 'specific cryptographic primitives', 'currency', 'trends', 'apple wallet', 'digital certificate', 'zcash ), regulatory', 'sha', '160 ), e', 'different types', 'digital signatures', 'mobile payment systems', 'cash', '3d credit card payment protocols', 'mobile payment systems ., crypto', 'hash functions', 'crypto', 'currencies', 'bitcoin', 'advanced', 'authentication protocols', 'blockchain', 'payment fundamentals', 'internet payment services', 'legal issues', 'case studies', 'fite3012 e', 'vairants );']}\n"
          ]
        }
      ]
    },
    {
      "cell_type": "code",
      "metadata": {
        "id": "_BW7xhFzlALP"
      },
      "source": [
        "import nltk\n",
        "nltk.download('punkt')"
      ],
      "execution_count": null,
      "outputs": []
    },
    {
      "cell_type": "code",
      "metadata": {
        "colab": {
          "base_uri": "https://localhost:8080/"
        },
        "id": "aoWH-rxF___O",
        "outputId": "217c3380-8ad1-412e-ae9a-d610532e7347"
      },
      "source": [
        "y= json.dumps(course_keywords)\n",
        "print(y)"
      ],
      "execution_count": 18,
      "outputs": [
        {
          "output_type": "stream",
          "name": "stdout",
          "text": [
            "{\"COMP2501\": [\"data acquisition\", \"data source\", \"data visualization tools\", \"data science\", \"statistical inference\", \"data manipulation\", \"processing\", \"feature engineering\", \"exploratory data analysis\", \"data pre\", \"data preparation\", \"manipulation\", \"regression models\", \"implementation\", \"python\", \"machine learning\", \"visualization\", \"data analysis\", \"communication\"], \"COMP2502\": [\"data structures library\", \"oriented programming language\", \"data structures\", \"computing fundamentals\", \"manipulate\", \"object\", \"applying data structures\", \"basic algorithms\", \"oriented programming principles\", \"basic data structures\"], \"COMP3231\": [\"cycle processors\", \"design\", \"cache\", \"virtual memory\", \"computer architecture evaluation\", \"instruction set architecture\", \"logic design\", \"output\", \"computer design\", \"ic\", \"basics\", \"performance analysis\", \"trends\", \"multi\", \"computer architecture design\", \"cost\", \"quantitative principles\", \"power\", \"main memory\", \"computer architecture fundamentals\", \"technology\", \"buses\", \"single\", \"pipelining\", \"input\"], \"COMP3258\": [\"ghc compiler\", \"functors\", \"applicative functors\", \"higher\", \"algebraic datatypes\", \"functional properties\", \"4\", \"ghc interpreter\", \"recursion\", \"1\", \"tools\", \"basics\", \"3\", \"type classes\", \"equational reasoning\", \"functional programming\", \"haskell mode\", \"quickcheck\", \"order functions\", \"monads\", \"advanced haskell\", \"emacs\"], \"COMP3259\": [\"data types\", \"scopes\", \"functional languages\", \"object orientation\", \"logic languages\", \"control abstraction\", \"names\", \"semantic analysis\", \"programming language fundamentals\", \"data abstraction\", \"subroutine\", \"bindings\", \"programming language implementation\", \"programming language syntax\", \"control flow\", \"programming language design\"], \"COMP3270A\": [\"environments\", \"basic principles\", \"reasoning\", \"search techniques\", \"concept\", \"applications\", \"problem solving\", \"ai algorithms\", \"uncertain knowledge\", \"rationality\", \"intelligent agents\", \"agents\", \"logical knowledge\", \"logical\", \"application programming\"], \"COMP3270B\": [\"environments\", \"basic principles\", \"reasoning\", \"search techniques\", \"concept\", \"applications\", \"problem solving\", \"ai algorithms\", \"uncertain knowledge\", \"rationality\", \"intelligent agents\", \"agents\", \"logical knowledge\", \"logical\", \"application programming\"], \"COMP3271\": [\"graphics hardware\", \"clipping\", \"overview\", \"2d transformations\", \"colour models\", \"viewing\", \"opengl apis\", \"surfaces\", \"computer graphics tools\", \"shading\", \"computer graphics concepts\", \"hidden\", \"basic drawing algorithms\", \"surface\", \"computer graphics models\", \"line removal\", \"computer graphics algorithms\", \"3d transformations\", \"curves\", \"modelling\", \"windowing\", \"illumination models\"], \"COMP3314A\": [\"clustering\", \"introduction\", \"ai\", \"supervised learning\", \"gaussian processes\", \"principal components analysis\", \"mixture models\", \"decision theory\", \"1\", \"applications\", \"3\", \"unsupervised learning\", \"data\", \"2\", \"curve fitting\", \"logistic regression\", \"advanced topics\", \"neural networks\", \"linear classifiers\", \"driven systems\", \"principles\"], \"COMP3314B\": [\"clustering\", \"introduction\", \"ai\", \"supervised learning\", \"gaussian processes\", \"principal components analysis\", \"mixture models\", \"decision theory\", \"1\", \"applications\", \"3\", \"unsupervised learning\", \"data\", \"2\", \"curve fitting\", \"logistic regression\", \"advanced topics\", \"neural networks\", \"linear classifiers\", \"driven systems\", \"principles\"], \"COMP3316\": [\"composite systems\", \"quantum states\", \"entanglement\", \"quantum algorithms\", \"quantum computation\", \"cloning\", \"quantum communication\", \"3\", \"nonlocal games\", \"quantum circuit model\", \"measurements\", \"basic rules\", \"processes\", \"steering\", \"dense coding\", \"2\", \"quantum key distribution\", \"quantum teleportation\"], \"COMP3317\": [\"dynamic programming\", \"qr decomposition\", \"false contouring\", \"rigid body motion\", \"corner detection\", \"linear least squares\", \"sharpening filters\", \"cross\", \"arithmetic operations\", \"world position\", \"planar affine imaging\", \"linear spatial filtering\", \"weak\", \"pinhole camera\", \"feature extraction\", \"image interpretation\", \"invariants\", \"planar scene calibration\", \"epipolar geometry\", \"connectivity\", \"scale edge detection\", \"affine stereo\", \"lines\", \"image processing\", \"line\", \"sampling\", \"full camera model\", \"vanishing points\", \"triangulation\", \"image structure\", \"calibration\", \"digital image representation\", \"convolution\", \"correspondence problem\", \"multi\", \"projection matrix\", \"color models\", \"gram\", \"affine cameras\", \"homogeneous coordinates\", \"2d edge detection\", \"ransac\", \"camera calibration\", \"aperture problem\", \"smoothing\", \"essential matrix decomposition\", \"singular value decomposition\", \"stereo vision\", \"coordinate system\", \"logic\", \"perspective projection\", \"ratio\", \"1d\", \"ccd imaging\", \"structure recovery\", \"recovery\", \"distance measures\", \"camera model\", \"nonlinear camera calibration\", \"essential matrix\", \"fundamental matrix\", \"schmidt process\"], \"COMP3320\": [\"technology infrastructure\", \"commerce\", \"introduction\", \"smart contract\", \"payment\", \"web server\", \"lab sessions\", \"1\", \"commerce server\", \"marketing\", \"e\", \"3\", \"additional case studies\", \"comp3320 electronic commerce technology\", \"2\", \"b2c\", \"b2b e\", \"commerce security\", \"blockchain\", \"project\"], \"COMP3322A\": [\"www basics\", \"web technology applications\", \"art web technologies\", \"dynamic web\", \"html\", \"cascading styling sheet\", \"web technologies\", \"dynamic web programming\", \"state\"], \"COMP3322B\": [\"www basics\", \"web technology applications\", \"art web technologies\", \"dynamic web\", \"html\", \"cascading styling sheet\", \"web technologies\", \"dynamic web programming\", \"state\"], \"COMP3329\": [\"game project\", \"design\", \"team work\", \"consideration\", \"3d game\", \"motion\", \"game history\", \"effect\", \"control\", \"introduction\", \"ai\", \"connectivity\", \"mmog design\", \"platform\", \"2d\", \"presentation\", \"devices\", \"game\", \"game platform overview\", \"3d modeling\", \"kinematics\", \"industry visit\", \"2d game\", \"team\", \"user interface\"], \"COMP3330\": [\"mobile apps\", \"user interface design\", \"multimedia\", \"5\", \"mobile application development\", \"server supported mobile applications\", \"introduction\", \"use\", \"project work\", \"4\", \"basic principles\", \"technical components\", \"constraints\", \"platform tools\", \"mobile apps development\", \"lifecycle\", \"concurrency\", \"publication\", \"1\", \"fundamentals\", \"integration\", \"knowledge\", \"3\", \"local database\", \"modern cross\", \"design patterns\", \"mobile applications\", \"graphics\", \"2\", \"sensors\", \"handling\", \"advanced topics\", \"location services\", \"network\", \"testing\"], \"COMP3340\": [\"others\", \"finetune\", \"case\", \"face image generation\", \"celeba\", \"introduction\", \"4\", \"able\", \"g\", \"alexnet\", \"super resolution\", \"1\", \"e\", \"rl basics\", \"q\", \"3\", \"train cnn_dqn\", \"convolutional neural networks\", \"critic\", \"actor\", \"others ., 2\", \"2\", \"image recognition\", \"evaluate srgan\", \"policy gradients\", \"generative adversarial networks\", \"sgd ., 2\", \"hard attention\", \"backpropagation\", \"build neural networks\", \"learning\", \"evaluate deep neural networks\", \"reinforcement learning\", \"play atari ., 2\"], \"COMP3352\": [\"mechanism design\", \"economic theory\", \"price\", \"concept\", \"equilibria\", \"algorithms\", \"2\", \"3\", \"complexity\", \"analysis\", \"anarchy\", \"equilibria concepts\", \"algorithmic mechanism design\", \"1\", \"case studies\", \"4\", \"computing equilibria\"], \"COMP3355\": [\"5\", \"analysis\", \"mobile code security\", \"introduction\", \"4\", \"cyber threat assessment\", \"web security\", \"penetration testing\", \"cryptography\", \"models\", \"computer\", \"protection\", \"internet security\", \"symmetric key cryptography\", \"3\", \"network security\", \"secure systems\", \"authentication techniques\", \"application\", \"2\", \"access control methods\", \"public key cryptography\", \"network\"], \"COMP3356\": [\"perception\", \"configuration space\", \"transformation\", \"basic control\", \"robotics\", \"point clouds\", \"robot state representation\", \"multiple\", \"1\", \"geometry\", \"trajectory optimization\", \"search\", \"pose estimation\", \"applications\", \"multi\", \"inverse kinematics\", \"3\", \"kinematics\", \"motion planning\", \"2\", \"view geometry\", \"dynamics\", \"path\", \"advanced topics\", \"robot system\", \"principles\", \"mechanics\"], \"COMP3357\": [\"device\", \"mac\", \"cryptographic applications\", \"identification\", \"commerce\", \"introduction\", \"4\", \"quantum information\", \"practical quantum cryptography\", \"modern cryptography\", \"public\", \"pseudo\", \"symmetric cryptography\", \"block ciphers\", \"key encryption\", \"authenticated key exchange\", \"e\", \"basics\", \"protocols\", \"random bit generators\", \"computational complexity based theory\", \"3\", \"digital signatures\", \"independent random bit generation ., 2\", \"2\", \"quantum key distribution\", \"one\", \"trapdoor functions\", \"bb84\", \"way\", \"stream ciphers\", \"fundamental ideas\", \"public key cryptography\", \"quantum cryptography\", \"hash function\", \"hash functions\"], \"COMP3358\": [\"facebook photo cache\", \"amazon ec2 clouds\", \"phase commits\", \"remote procedure calls\", \"backup algorithms\", \"distributed consensus algorithms\", \"webservices\", \"message queues ), distributed transactions\", \"spark\", \"distributed fault\", \"reduce paradigm\", \"weak consistency models\", \"laws\", \"distributed\", \"architectures\", \"computer network primitives\", \"hadoop\", \"map\", \"parallel computing concepts\", \"two\", \"actors\", \"amdahl \\u2019\", \"tensorflow\", \"tolerant architectures\", \"dynamodb stores\", \"distributed virtual machine primary\", \"acid\", \"monads\", \"parallel computing architectures\", \"strong\"], \"COMP3360\": [\"physics based animation\", \"skinning\", \"inverse kinematics\", \"forward kinematics\", \"point\", \"based animation\", \"3\", \"learning physics\", \"keyframe animation\", \"character animation\", \"1\", \"based methods\", \"data driven character animation\", \"introduction\", \"2\", \"motion capture\", \"learning shape deformation\"], \"COMP3361\": [\"lexicalized context\", \"learning ), regularization\", \"parameter estimation\", \"language models\", \"em algorithm\", \"linear models\", \"word embeddings\", \"syntactic structure\", \"log\", \"recurrent networks\", \"fine\", \"introduction\", \"head words\", \"features\", \"transformers\", \"noisy channel model\", \"neural structured prediction\", \"cfgs ), ambiguity\", \"gpt\", \"rnn language models\", \"g\", \"hmm ), viterbi algorithm\", \"natural language processing\", \"crf\", \"1\", \"e\", \"pretraining\", \"probabilistic context\", \"bigram\", \"bert\", \"feedforward networks\", \"cky algorithm\", \"based mt\", \"ner ), generative models\", \"attention mechanism\", \"seq2seq models\", \"tagging\", \"multi\", \"chain rule\", \"3\", \"pos tagging\", \"parsing\", \"context\", \"neural machine translation\", \"alignment\", \"computational graphs\", \"smoothing\", \"word2vec\", \"2\", \"feedforward neural networks\", \"dependency parsing ), 2\", \"statistical machine translation\", \"based parsing\", \"tuning\", \"nlp\", \"lstms\", \"head attention\", \"history\", \"phrase\", \"entity recognition\", \"neural networks\", \"lstm gates\", \"backpropagation\", \"advanced\", \"dependency parsing\", \"trigram models\", \"named\", \"memm\", \"loss function\", \"hidden markov models\", \"free grammars\", \"contextualized word representation\", \"computational linguistics\"], \"COMP3362\": [\"implementation\", \"art ai platforms\", \"demonstration\", \"2\", \"3\", \"problem identification\", \"selected state\", \"paced learning\", \"1\", \"project\", \"tools\", \"presentation\", \"ai methodologies\", \"introduction\", \"4\", \"experimentation cycle\", \"self\"], \"COMP3407\": [\"richardson extrapolation\", \"qr decomposition\", \"qr\", \"least squares data fitting\", \"steepest descent method\", \"solve linear\", \"golden section search\", \"cotes quadrature\", \"using gaussian elimination\", \"newton method\", \"data interpolation\", \"proficient\", \"norms\", \"lu\", \"floating point numbers\", \"integrate\", \"cancellation\", \"numerical instability ., solving linear system\", \"optimization\", \"students\", \"newton\", \"non\", \"fitting\", \"newton interpolation\", \"integration\", \"rounding errors\", \"differentiate numerical functions using forward difference approximation\", \"relative\", \"interpolate data\", \"absolute errors\", \"method\", \"computer arithmetic\", \"application\", \"hermite interpolation\", \"piecewise polynomial interpolation\", \"linear equation systems\", \"normal equation\", \"newton \\u2019\", \"differentiation\", \"bisection method\", \"approximation\", \"gaussian quadrature\", \"optimization techniques\", \"equation\", \"lagrange interpolation\", \"secant method respectively\", \"condition numbers iterative methods\", \"cholesky decomposition\", \"composite rule\", \"pivoting\"], \"FITE2010\": [\"design\", \"possible enhancements\", \"distributed ledger ., applications\", \"platform ., programming\", \"designs\", \"introduction\", \"fite3011 distributed ledger\", \"impact\", \"distributed ledger\", \"key components\", \"g\", \"existing platforms\", \"existing distributed ledger platforms\", \"limitations\", \"e\", \"ethereum )., cryptocurrency technology\", \"best fit\", \"constructing\", \"rationale behind\", \"smart contracts\", \"possibilities\", \"application\", \"platform ., different cryptographic primitives\", \"blockchain\", \"distributed ledger technology\", \"new applications\", \"popular blockchain platform\"], \"FITE3010\": [\"association rule mining\", \"course content\", \"data mining\", \"database indexing\", \"3\", \"data clustering\", \"4\", \"textual big data\", \"query evaluation\", \"spatial big data\", \"1\", \"data integration\", \"spatial networks\", \"query optimization\", \"2\", \"information ranking\", \"uncertain data management\"], \"FITE3012\": [\"ethereum\", \"emerging technologies\", \"payment ., different security mechanisms\", \"monero\", \"256\", \"introduction\", \"currency technologies\", \"set\", \"impact\", \"payment\", \"encryptions\", \"google wallet\", \"payment systems\", \"g\", \"elliptic curve cryptography\", \"ecdlp\", \"ripemd\", \"ecdsa ); concrete hash functions\", \"electronic check\", \"e\", \"specific cryptographic primitives\", \"currency\", \"trends\", \"apple wallet\", \"digital certificate\", \"zcash ), regulatory\", \"sha\", \"160 ), e\", \"different types\", \"digital signatures\", \"mobile payment systems\", \"cash\", \"3d credit card payment protocols\", \"mobile payment systems ., crypto\", \"hash functions\", \"crypto\", \"currencies\", \"bitcoin\", \"advanced\", \"authentication protocols\", \"blockchain\", \"payment fundamentals\", \"internet payment services\", \"legal issues\", \"case studies\", \"fite3012 e\", \"vairants );\"]}\n"
          ]
        }
      ]
    }
  ]
}