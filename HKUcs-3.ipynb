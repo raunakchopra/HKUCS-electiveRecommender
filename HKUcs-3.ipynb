{
  "nbformat": 4,
  "nbformat_minor": 0,
  "metadata": {
    "colab": {
      "name": "HKUcs.ipynb",
      "provenance": [],
      "collapsed_sections": []
    },
    "kernelspec": {
      "name": "python3",
      "display_name": "Python 3"
    },
    "language_info": {
      "name": "python"
    }
  },
  "cells": [
    {
      "cell_type": "code",
      "metadata": {
        "id": "QECp_mDCm-4c"
      },
      "source": [
        "import requests\n",
        "from bs4 import BeautifulSoup\n",
        "from rake_nltk import Rake\n",
        "rake_nltk_var = Rake()\n",
        "\n",
        "scraping_url = \"https://www.cs.hku.hk/programmes/course-offered\"\n",
        "\n",
        "re = requests.get(scraping_url)\n",
        "soup = BeautifulSoup(re.text, \"html.parser\")"
      ],
      "execution_count": 7,
      "outputs": []
    },
    {
      "cell_type": "code",
      "metadata": {
        "id": "X7CbwJE_nYB5"
      },
      "source": [
        "course_table = soup.find_all('tr')\n",
        "found_flag = 0\n",
        "for idx, tr in enumerate(course_table):\n",
        "  if tr.text[1:-1] == \"Year 2 to 4 - Elective\":\n",
        "    found_flag = idx\n",
        "    break\n",
        "\n",
        "elective_table = course_table[found_flag+1:]"
      ],
      "execution_count": 8,
      "outputs": []
    },
    {
      "cell_type": "code",
      "metadata": {
        "id": "leTe7s6RsuhU",
        "colab": {
          "base_uri": "https://localhost:8080/"
        },
        "outputId": "cd841ec7-9667-4259-a4ff-03bb29ecbbee"
      },
      "source": [
        "import json\n",
        "\n",
        "elective_data = {}\n",
        "\n",
        "\n",
        "for elective in elective_table:\n",
        "  td = elective.find_all('td')\n",
        "  code = td[0].text\n",
        "  link = td[1].find('a')\n",
        "  course_name = link.text\n",
        "  course_link = \"www.cs.hku.hk\" + link['href']\n",
        "  course_data = {}\n",
        "  course_data['course_code'] =  str(code)\n",
        "  course_data['course_name'] = course_name\n",
        "  course_data['course_link'] = 'https://' + course_link\n",
        "  elective_data[code] = course_data\n",
        "\n",
        "y = json.dumps(elective_data)\n",
        "print(elective_data)\n"
      ],
      "execution_count": 9,
      "outputs": [
        {
          "output_type": "stream",
          "name": "stdout",
          "text": [
            "{'COMP2501': {'course_code': 'COMP2501', 'course_name': 'Introduction to data science and engineering', 'course_link': 'https://www.cs.hku.hk/index.php/programmes/course-offered?infile=2021/comp2501.html'}, 'COMP2502': {'course_code': 'COMP2502', 'course_name': 'Computing Fundamentals (Minor in DA&E only)', 'course_link': 'https://www.cs.hku.hk/index.php/programmes/course-offered?infile=2021/comp2502.html'}, 'COMP3231': {'course_code': 'COMP3231', 'course_name': 'Computer Architecture', 'course_link': 'https://www.cs.hku.hk/index.php/programmes/course-offered?infile=2021/comp3231.html'}, 'COMP3258': {'course_code': 'COMP3258', 'course_name': 'Functional Programming', 'course_link': 'https://www.cs.hku.hk/index.php/programmes/course-offered?infile=2021/comp3258.html'}, 'COMP3259': {'course_code': 'COMP3259', 'course_name': 'Principles of Programming Languages', 'course_link': 'https://www.cs.hku.hk/index.php/programmes/course-offered?infile=2021/comp3259.html'}, 'COMP3270A': {'course_code': 'COMP3270A', 'course_name': 'Artificial Intelligence', 'course_link': 'https://www.cs.hku.hk/index.php/programmes/course-offered?infile=2021/comp3270.html'}, 'COMP3270B': {'course_code': 'COMP3270B', 'course_name': 'Artificial Intelligence', 'course_link': 'https://www.cs.hku.hk/index.php/programmes/course-offered?infile=2021/comp3270.html'}, 'COMP3271': {'course_code': 'COMP3271', 'course_name': 'Computer Graphics', 'course_link': 'https://www.cs.hku.hk/index.php/programmes/course-offered?infile=2021/comp3271.html'}, 'COMP3314A': {'course_code': 'COMP3314A', 'course_name': 'Machine Learning', 'course_link': 'https://www.cs.hku.hk/index.php/programmes/course-offered?infile=2021/comp3314.html'}, 'COMP3314B': {'course_code': 'COMP3314B', 'course_name': 'Machine Learning', 'course_link': 'https://www.cs.hku.hk/index.php/programmes/course-offered?infile=2021/comp3314.html'}, 'COMP3316': {'course_code': 'COMP3316', 'course_name': 'Quantum Information and Computation', 'course_link': 'https://www.cs.hku.hk/index.php/programmes/course-offered?infile=2021/comp3316.html'}, 'COMP3317': {'course_code': 'COMP3317', 'course_name': 'Computer Vision', 'course_link': 'https://www.cs.hku.hk/index.php/programmes/course-offered?infile=2021/comp3317.html'}, 'COMP3320': {'course_code': 'COMP3320', 'course_name': 'Electronic Commerce Technology', 'course_link': 'https://www.cs.hku.hk/index.php/programmes/course-offered?infile=2021/comp3320.html'}, 'COMP3322A': {'course_code': 'COMP3322A', 'course_name': 'Modern Technologies on World Wide Web', 'course_link': 'https://www.cs.hku.hk/index.php/programmes/course-offered?infile=2021/comp3322.html'}, 'COMP3322B': {'course_code': 'COMP3322B', 'course_name': 'Modern Technologies on World Wide Web', 'course_link': 'https://www.cs.hku.hk/index.php/programmes/course-offered?infile=2021/comp3322.html'}, 'COMP3329': {'course_code': 'COMP3329', 'course_name': 'Computer Game Design and Programming', 'course_link': 'https://www.cs.hku.hk/index.php/programmes/course-offered?infile=2021/comp3329.html'}, 'COMP3330': {'course_code': 'COMP3330', 'course_name': 'Interactive Mobile Application Design and Programming', 'course_link': 'https://www.cs.hku.hk/index.php/programmes/course-offered?infile=2021/comp3330.html'}, 'COMP3340': {'course_code': 'COMP3340', 'course_name': 'Applied Deep Learning', 'course_link': 'https://www.cs.hku.hk/index.php/programmes/course-offered?infile=2021/comp3340.html'}, 'COMP3352': {'course_code': 'COMP3352', 'course_name': 'Algorithmic Game Theory', 'course_link': 'https://www.cs.hku.hk/index.php/programmes/course-offered?infile=2021/comp3352.html'}, 'COMP3355': {'course_code': 'COMP3355', 'course_name': 'Cyber Security', 'course_link': 'https://www.cs.hku.hk/index.php/programmes/course-offered?infile=2021/comp3355.html'}, 'COMP3356': {'course_code': 'COMP3356', 'course_name': 'Robotics ', 'course_link': 'https://www.cs.hku.hk/index.php/programmes/course-offered?infile=2021/comp3356.html'}, 'COMP3357': {'course_code': 'COMP3357', 'course_name': 'Cryptography', 'course_link': 'https://www.cs.hku.hk/index.php/programmes/course-offered?infile=2021/comp3357.html'}, 'COMP3358': {'course_code': 'COMP3358', 'course_name': 'Distributed and Parallel Computing', 'course_link': 'https://www.cs.hku.hk/index.php/programmes/course-offered?infile=2021/comp3358.html'}, 'COMP3360': {'course_code': 'COMP3360', 'course_name': 'Data-driven computer animation', 'course_link': 'https://www.cs.hku.hk/index.php/programmes/course-offered?infile=2021/comp3360.html'}, 'COMP3361': {'course_code': 'COMP3361', 'course_name': 'Natural language processing', 'course_link': 'https://www.cs.hku.hk/index.php/programmes/course-offered?infile=2021/comp3361.html'}, 'COMP3362': {'course_code': 'COMP3362', 'course_name': 'Hands-on AI: experimentation & applications', 'course_link': 'https://www.cs.hku.hk/index.php/programmes/course-offered?infile=2021/comp3362.html'}, 'COMP3407': {'course_code': 'COMP3407', 'course_name': 'Scientific Computing', 'course_link': 'https://www.cs.hku.hk/index.php/programmes/course-offered?infile=2021/comp3407.html'}, 'FITE2010': {'course_code': 'FITE2010', 'course_name': 'Distributed Ledger & Blockchain', 'course_link': 'https://www.cs.hku.hk/index.php/programmes/course-offered?infile=2021/fite2010.html'}, 'FITE3010': {'course_code': 'FITE3010', 'course_name': 'Big Data and Data Mining', 'course_link': 'https://www.cs.hku.hk/index.php/programmes/course-offered?infile=2021/fite3010.html'}, 'FITE3012': {'course_code': 'FITE3012', 'course_name': 'E-payment and Crypto-currency', 'course_link': 'https://www.cs.hku.hk/index.php/programmes/course-offered?infile=2021/fite3012.html'}}\n"
          ]
        }
      ]
    },
    {
      "cell_type": "code",
      "metadata": {
        "id": "-Q0gS9FENNXX",
        "colab": {
          "base_uri": "https://localhost:8080/"
        },
        "outputId": "81fcccf6-b21d-4c22-c354-8b66bc053600"
      },
      "source": [
        "course_info = []\n",
        "\n",
        "for course in elective_data:\n",
        "  course_keywords={}\n",
        "  course_object = elective_data.get(course)\n",
        "\n",
        "  re = requests.get(course_object.get('course_link'))\n",
        "  soup = BeautifulSoup(re.text, \"html.parser\")\n",
        "\n",
        "  page_tables = soup.find_all('table', {\n",
        "      'class': 'table_listdata_v4 table-responsive'\n",
        "  })\n",
        "\n",
        "  course_syllabus = page_tables[-1].find_all()\n",
        "  course_text = []\n",
        "  for i in range(0, len(course_syllabus)):\n",
        "    if('\\n' not in course_syllabus[i].text and not course_syllabus[i].text.isdigit()):\n",
        "      course_text.append(course_syllabus[i].text)\n",
        "  course_text = ','.join(course_text)\n",
        "  rake_nltk_var.extract_keywords_from_text(course_text)\n",
        "  keyword_extracted = rake_nltk_var.get_ranked_phrases()\n",
        "  course_keywords['course_name'] = course\n",
        "  course_keywords['keywords'] = keyword_extracted\n",
        "  course_keywords['keywords'] = list(set(course_keywords['keywords'])) #for data cleaning\n",
        "  course_info.append(course_keywords)\n",
        "print(course_info)\n",
        "  \n"
      ],
      "execution_count": 31,
      "outputs": [
        {
          "output_type": "stream",
          "name": "stdout",
          "text": [
            "[{'course_name': 'COMP2501', 'keywords': ['data science', 'data source', 'data analysis', 'data acquisition', 'data pre', 'statistical inference', 'feature engineering', 'data preparation', 'exploratory data analysis', 'communication', 'python', 'data manipulation', 'regression models', 'visualization', 'data visualization tools', 'implementation', 'processing', 'machine learning', 'manipulation']}, {'course_name': 'COMP2502', 'keywords': ['manipulate', 'data structures library', 'data structures', 'basic algorithms', 'basic data structures', 'computing fundamentals', 'object', 'oriented programming language', 'oriented programming principles', 'applying data structures']}, {'course_name': 'COMP3231', 'keywords': ['main memory', 'instruction set architecture', 'single', 'buses', 'multi', 'trends', 'cycle processors', 'cache', 'power', 'ic', 'performance analysis', 'virtual memory', 'output', 'computer architecture design', 'basics', 'logic design', 'cost', 'computer design', 'computer architecture evaluation', 'computer architecture fundamentals', 'input', 'quantitative principles', 'technology', 'design', 'pipelining']}, {'course_name': 'COMP3258', 'keywords': ['applicative functors', 'tools', 'order functions', 'haskell mode', 'advanced haskell', 'monads', 'algebraic datatypes', 'higher', 'equational reasoning', '1', 'type classes', 'basics', 'functional properties', 'functional programming', '4', 'emacs', 'ghc interpreter', '3', 'recursion', 'ghc compiler', 'functors', 'quickcheck']}, {'course_name': 'COMP3259', 'keywords': ['bindings', 'programming language implementation', 'logic languages', 'scopes', 'control flow', 'programming language design', 'subroutine', 'control abstraction', 'functional languages', 'names', 'data types', 'programming language fundamentals', 'data abstraction', 'object orientation', 'semantic analysis', 'programming language syntax']}, {'course_name': 'COMP3270A', 'keywords': ['logical knowledge', 'ai algorithms', 'application programming', 'problem solving', 'search techniques', 'uncertain knowledge', 'concept', 'reasoning', 'basic principles', 'agents', 'logical', 'intelligent agents', 'rationality', 'applications', 'environments']}, {'course_name': 'COMP3270B', 'keywords': ['logical knowledge', 'ai algorithms', 'application programming', 'problem solving', 'search techniques', 'uncertain knowledge', 'concept', 'reasoning', 'basic principles', 'agents', 'logical', 'intelligent agents', 'rationality', 'applications', 'environments']}, {'course_name': 'COMP3271', 'keywords': ['computer graphics models', 'line removal', 'curves', 'modelling', 'opengl apis', '3d transformations', 'surfaces', 'computer graphics tools', 'hidden', 'viewing', 'illumination models', 'clipping', 'colour models', 'windowing', 'computer graphics algorithms', 'computer graphics concepts', '2d transformations', 'overview', 'surface', 'shading', 'basic drawing algorithms', 'graphics hardware']}, {'course_name': 'COMP3314A', 'keywords': ['linear classifiers', 'data', 'principles', 'principal components analysis', '2', 'unsupervised learning', 'curve fitting', 'mixture models', 'driven systems', 'gaussian processes', 'logistic regression', 'neural networks', '1', 'supervised learning', 'introduction', 'ai', 'advanced topics', 'applications', 'clustering', '3', 'decision theory']}, {'course_name': 'COMP3314B', 'keywords': ['linear classifiers', 'data', 'principles', 'principal components analysis', '2', 'unsupervised learning', 'curve fitting', 'mixture models', 'driven systems', 'gaussian processes', 'logistic regression', 'neural networks', '1', 'supervised learning', 'introduction', 'ai', 'advanced topics', 'applications', 'clustering', '3', 'decision theory']}, {'course_name': 'COMP3316', 'keywords': ['2', 'quantum teleportation', 'quantum communication', 'composite systems', 'quantum algorithms', 'dense coding', 'nonlocal games', 'measurements', 'quantum computation', 'steering', 'processes', 'cloning', 'quantum circuit model', '3', 'quantum key distribution', 'entanglement', 'quantum states', 'basic rules']}, {'course_name': 'COMP3317', 'keywords': ['projection matrix', 'homogeneous coordinates', 'aperture problem', 'qr decomposition', 'color models', 'sampling', 'line', 'connectivity', 'schmidt process', 'linear least squares', 'structure recovery', 'singular value decomposition', '2d edge detection', 'epipolar geometry', 'planar affine imaging', 'coordinate system', 'multi', 'ccd imaging', 'rigid body motion', 'vanishing points', 'image processing', 'stereo vision', 'ransac', '1d', 'digital image representation', 'invariants', 'lines', 'pinhole camera', 'dynamic programming', 'calibration', 'world position', 'weak', 'distance measures', 'correspondence problem', 'triangulation', 'arithmetic operations', 'fundamental matrix', 'sharpening filters', 'gram', 'essential matrix', 'planar scene calibration', 'smoothing', 'false contouring', 'cross', 'affine cameras', 'convolution', 'ratio', 'linear spatial filtering', 'affine stereo', 'camera model', 'feature extraction', 'perspective projection', 'full camera model', 'scale edge detection', 'image interpretation', 'essential matrix decomposition', 'corner detection', 'image structure', 'nonlinear camera calibration', 'logic', 'recovery', 'camera calibration']}, {'course_name': 'COMP3320', 'keywords': ['comp3320 electronic commerce technology', 'b2b e', 'additional case studies', '2', 'smart contract', 'technology infrastructure', 'payment', 'marketing', 'commerce server', 'blockchain', '1', 'lab sessions', 'commerce security', 'project', 'introduction', 'commerce', 'web server', 'b2c', '3', 'e']}, {'course_name': 'COMP3322A', 'keywords': ['cascading styling sheet', 'state', 'web technologies', 'art web technologies', 'www basics', 'dynamic web programming', 'web technology applications', 'html', 'dynamic web']}, {'course_name': 'COMP3322B', 'keywords': ['cascading styling sheet', 'state', 'web technologies', 'art web technologies', 'www basics', 'dynamic web programming', 'web technology applications', 'html', 'dynamic web']}, {'course_name': 'COMP3329', 'keywords': ['user interface', '2d', 'game history', 'connectivity', 'motion', 'game project', 'control', 'mmog design', 'platform', '3d game', 'consideration', 'game', 'industry visit', 'devices', 'team work', 'introduction', 'game platform overview', '3d modeling', '2d game', 'ai', 'presentation', 'team', 'kinematics', 'design', 'effect']}, {'course_name': 'COMP3330', 'keywords': ['platform tools', 'server supported mobile applications', 'location services', 'knowledge', 'constraints', 'integration', 'project work', 'mobile applications', 'concurrency', 'mobile application development', 'sensors', '2', 'mobile apps development', '5', 'design patterns', 'lifecycle', 'modern cross', '1', 'local database', 'user interface design', 'introduction', '4', 'advanced topics', 'multimedia', 'fundamentals', 'publication', 'technical components', 'testing', 'graphics', 'network', '3', 'handling', 'use', 'basic principles', 'mobile apps']}, {'course_name': 'COMP3340', 'keywords': ['build neural networks', 'train cnn_dqn', 'play atari ., 2', 'generative adversarial networks', 'actor', '2', 'celeba', 'case', 'backpropagation', 'others', 'able', 'reinforcement learning', 'hard attention', 'finetune', '1', 'sgd ., 2', 'evaluate deep neural networks', 'image recognition', 'q', 'convolutional neural networks', 'introduction', '4', 'alexnet', 'others ., 2', 'policy gradients', '3', 'e', 'critic', 'learning', 'rl basics', 'evaluate srgan', 'g', 'face image generation', 'super resolution']}, {'course_name': 'COMP3352', 'keywords': ['1', 'analysis', 'complexity', 'anarchy', 'computing equilibria', 'mechanism design', 'case studies', 'price', 'algorithms', 'equilibria', '3', '4', 'economic theory', 'algorithmic mechanism design', 'equilibria concepts', '2', 'concept']}, {'course_name': 'COMP3355', 'keywords': ['analysis', 'internet security', 'cryptography', '2', 'models', 'authentication techniques', 'web security', 'access control methods', 'symmetric key cryptography', '5', 'computer', 'network security', 'cyber threat assessment', 'secure systems', 'penetration testing', 'introduction', '4', 'mobile code security', 'network', '3', 'public key cryptography', 'application', 'protection']}, {'course_name': 'COMP3356', 'keywords': ['search', 'inverse kinematics', 'principles', 'transformation', 'robot state representation', 'robot system', 'multi', 'multiple', '2', 'path', 'basic control', 'pose estimation', 'geometry', 'motion planning', 'trajectory optimization', '1', 'configuration space', 'mechanics', 'advanced topics', 'view geometry', 'applications', 'dynamics', 'point clouds', 'robotics', 'perception', '3', 'kinematics']}, {'course_name': 'COMP3357', 'keywords': ['independent random bit generation ., 2', 'fundamental ideas', 'quantum cryptography', 'public', 'hash functions', 'protocols', 'random bit generators', 'quantum key distribution', 'cryptographic applications', 'key encryption', '2', 'pseudo', 'modern cryptography', 'quantum information', 'stream ciphers', 'computational complexity based theory', 'symmetric cryptography', 'one', 'digital signatures', 'hash function', 'device', 'basics', 'authenticated key exchange', 'block ciphers', 'mac', 'introduction', '4', 'commerce', 'bb84', 'identification', 'practical quantum cryptography', '3', 'e', 'public key cryptography', 'trapdoor functions', 'way']}, {'course_name': 'COMP3358', 'keywords': ['spark', 'reduce paradigm', 'weak consistency models', 'acid', 'architectures', 'distributed fault', 'webservices', 'parallel computing concepts', 'amazon ec2 clouds', 'facebook photo cache', 'distributed consensus algorithms', 'laws', 'backup algorithms', 'distributed', 'distributed virtual machine primary', 'dynamodb stores', 'monads', 'parallel computing architectures', 'remote procedure calls', 'phase commits', 'computer network primitives', 'hadoop', 'tensorflow', 'two', 'message queues ), distributed transactions', 'strong', 'actors', 'tolerant architectures', 'map', 'amdahl ’']}, {'course_name': 'COMP3360', 'keywords': ['learning shape deformation', 'based methods', '1', 'inverse kinematics', 'skinning', 'data driven character animation', '3', 'physics based animation', 'motion capture', 'forward kinematics', 'keyframe animation', 'point', 'character animation', 'introduction', 'learning physics', '2', 'based animation']}, {'course_name': 'COMP3361', 'keywords': ['seq2seq models', 'lexicalized context', 'cky algorithm', 'trigram models', 'features', 'phrase', 'bigram', 'attention mechanism', 'pretraining', 'lstm gates', 'tuning', 'transformers', 'advanced', 'hidden markov models', 'named', 'multi', 'neural structured prediction', '2', 'language models', 'neural machine translation', 'rnn language models', 'log', 'fine', 'dependency parsing', 'em algorithm', 'tagging', 'backpropagation', 'noisy channel model', 'word2vec', 'memm', 'linear models', 'natural language processing', 'parameter estimation', 'feedforward neural networks', 'entity recognition', 'dependency parsing ), 2', 'based parsing', 'bert', 'ner ), generative models', 'neural networks', 'crf', '1', 'context', 'history', 'smoothing', 'gpt', 'loss function', 'learning ), regularization', 'introduction', 'feedforward networks', 'g', 'parsing', 'word embeddings', 'head words', 'cfgs ), ambiguity', 'head attention', 'probabilistic context', 'statistical machine translation', 'computational graphs', 'chain rule', 'hmm ), viterbi algorithm', 'lstms', 'e', 'recurrent networks', 'alignment', '3', 'syntactic structure', 'free grammars', 'computational linguistics', 'based mt', 'nlp', 'pos tagging', 'contextualized word representation']}, {'course_name': 'COMP3362', 'keywords': ['2', '1', 'art ai platforms', 'experimentation cycle', 'project', 'ai methodologies', 'presentation', '3', 'problem identification', 'introduction', 'implementation', '4', 'self', 'demonstration', 'tools', 'paced learning', 'selected state']}, {'course_name': 'COMP3407', 'keywords': ['method', 'qr decomposition', 'newton method', 'steepest descent method', 'bisection method', 'cholesky decomposition', 'optimization', 'integrate', 'newton interpolation', 'rounding errors', 'floating point numbers', 'pivoting', 'lu', 'lagrange interpolation', 'optimization techniques', 'richardson extrapolation', 'computer arithmetic', 'gaussian quadrature', 'fitting', 'proficient', 'condition numbers iterative methods', 'hermite interpolation', 'interpolate data', 'newton ’', 'piecewise polynomial interpolation', 'composite rule', 'absolute errors', 'linear equation systems', 'least squares data fitting', 'qr', 'cancellation', 'relative', 'cotes quadrature', 'golden section search', 'equation', 'numerical instability ., solving linear system', 'data interpolation', 'differentiation', 'normal equation', 'application', 'approximation', 'non', 'students', 'differentiate numerical functions using forward difference approximation', 'norms', 'using gaussian elimination', 'newton', 'secant method respectively', 'integration', 'solve linear']}, {'course_name': 'FITE2010', 'keywords': ['possible enhancements', 'impact', 'constructing', 'distributed ledger', 'existing distributed ledger platforms', 'fite3011 distributed ledger', 'possibilities', 'ethereum )., cryptocurrency technology', 'smart contracts', 'blockchain', 'designs', 'existing platforms', 'platform ., different cryptographic primitives', 'platform ., programming', 'introduction', 'key components', 'rationale behind', 'distributed ledger technology', 'limitations', 'best fit', 'distributed ledger ., applications', 'new applications', 'e', 'design', 'g', 'application', 'popular blockchain platform']}, {'course_name': 'FITE3010', 'keywords': ['1', 'association rule mining', 'data integration', 'textual big data', '3', 'uncertain data management', 'spatial networks', 'information ranking', 'course content', '4', 'query evaluation', 'data mining', 'database indexing', 'data clustering', 'spatial big data', '2', 'query optimization']}, {'course_name': 'FITE3012', 'keywords': ['ecdlp', 'payment fundamentals', 'vairants );', 'emerging technologies', 'internet payment services', 'impact', 'hash functions', 'case studies', 'google wallet', 'apple wallet', 'advanced', 'trends', 'fite3012 e', '256', '160 ), e', 'encryptions', 'payment', '3d credit card payment protocols', 'blockchain', 'digital signatures', 'specific cryptographic primitives', 'set', 'crypto', 'bitcoin', 'introduction', 'ripemd', 'legal issues', 'payment systems', 'mobile payment systems ., crypto', 'zcash ), regulatory', 'currency technologies', 'mobile payment systems', 'sha', 'ecdsa ); concrete hash functions', 'digital certificate', 'cash', 'ethereum', 'electronic check', 'currencies', 'currency', 'elliptic curve cryptography', 'e', 'monero', 'payment ., different security mechanisms', 'authentication protocols', 'different types', 'g']}]\n"
          ]
        }
      ]
    },
    {
      "cell_type": "markdown",
      "metadata": {
        "id": "WZE9d7JjBSzF"
      },
      "source": [
        ""
      ]
    },
    {
      "cell_type": "code",
      "metadata": {
        "colab": {
          "base_uri": "https://localhost:8080/"
        },
        "id": "PpYBjWSAZxBa",
        "outputId": "6267175c-203b-4026-fc42-0f51154b54bf"
      },
      "source": [
        "for course in course_keywords:\n",
        "  print(course_keywords[course])"
      ],
      "execution_count": 24,
      "outputs": [
        {
          "output_type": "stream",
          "name": "stdout",
          "text": [
            "FITE3012\n",
            "['ecdlp', 'payment fundamentals', 'vairants );', 'emerging technologies', 'internet payment services', 'impact', 'hash functions', 'case studies', 'google wallet', 'apple wallet', 'advanced', 'trends', 'fite3012 e', '256', '160 ), e', 'encryptions', 'payment', '3d credit card payment protocols', 'blockchain', 'digital signatures', 'specific cryptographic primitives', 'set', 'crypto', 'bitcoin', 'introduction', 'ripemd', 'legal issues', 'payment systems', 'mobile payment systems ., crypto', 'zcash ), regulatory', 'currency technologies', 'mobile payment systems', 'sha', 'ecdsa ); concrete hash functions', 'digital certificate', 'cash', 'ethereum', 'electronic check', 'currencies', 'currency', 'elliptic curve cryptography', 'e', 'monero', 'payment ., different security mechanisms', 'authentication protocols', 'different types', 'g']\n"
          ]
        }
      ]
    },
    {
      "cell_type": "code",
      "metadata": {
        "id": "_BW7xhFzlALP",
        "colab": {
          "base_uri": "https://localhost:8080/"
        },
        "outputId": "44cda5af-f7d1-4aac-e11e-493db4110ade"
      },
      "source": [
        "import nltk\n",
        "nltk.download('stopwords')"
      ],
      "execution_count": 6,
      "outputs": [
        {
          "output_type": "stream",
          "name": "stderr",
          "text": [
            "[nltk_data] Downloading package stopwords to /root/nltk_data...\n",
            "[nltk_data]   Unzipping corpora/stopwords.zip.\n"
          ]
        },
        {
          "output_type": "execute_result",
          "data": {
            "text/plain": [
              "True"
            ]
          },
          "metadata": {},
          "execution_count": 6
        }
      ]
    },
    {
      "cell_type": "code",
      "metadata": {
        "colab": {
          "base_uri": "https://localhost:8080/"
        },
        "id": "aoWH-rxF___O",
        "outputId": "839e95bf-6ed8-4f1e-b51e-3f77e18c0bb1"
      },
      "source": [
        "y= json.dumps(course_info)\n",
        "print(y)"
      ],
      "execution_count": 32,
      "outputs": [
        {
          "output_type": "stream",
          "name": "stdout",
          "text": [
            "[{\"course_name\": \"COMP2501\", \"keywords\": [\"data science\", \"data source\", \"data analysis\", \"data acquisition\", \"data pre\", \"statistical inference\", \"feature engineering\", \"data preparation\", \"exploratory data analysis\", \"communication\", \"python\", \"data manipulation\", \"regression models\", \"visualization\", \"data visualization tools\", \"implementation\", \"processing\", \"machine learning\", \"manipulation\"]}, {\"course_name\": \"COMP2502\", \"keywords\": [\"manipulate\", \"data structures library\", \"data structures\", \"basic algorithms\", \"basic data structures\", \"computing fundamentals\", \"object\", \"oriented programming language\", \"oriented programming principles\", \"applying data structures\"]}, {\"course_name\": \"COMP3231\", \"keywords\": [\"main memory\", \"instruction set architecture\", \"single\", \"buses\", \"multi\", \"trends\", \"cycle processors\", \"cache\", \"power\", \"ic\", \"performance analysis\", \"virtual memory\", \"output\", \"computer architecture design\", \"basics\", \"logic design\", \"cost\", \"computer design\", \"computer architecture evaluation\", \"computer architecture fundamentals\", \"input\", \"quantitative principles\", \"technology\", \"design\", \"pipelining\"]}, {\"course_name\": \"COMP3258\", \"keywords\": [\"applicative functors\", \"tools\", \"order functions\", \"haskell mode\", \"advanced haskell\", \"monads\", \"algebraic datatypes\", \"higher\", \"equational reasoning\", \"1\", \"type classes\", \"basics\", \"functional properties\", \"functional programming\", \"4\", \"emacs\", \"ghc interpreter\", \"3\", \"recursion\", \"ghc compiler\", \"functors\", \"quickcheck\"]}, {\"course_name\": \"COMP3259\", \"keywords\": [\"bindings\", \"programming language implementation\", \"logic languages\", \"scopes\", \"control flow\", \"programming language design\", \"subroutine\", \"control abstraction\", \"functional languages\", \"names\", \"data types\", \"programming language fundamentals\", \"data abstraction\", \"object orientation\", \"semantic analysis\", \"programming language syntax\"]}, {\"course_name\": \"COMP3270A\", \"keywords\": [\"logical knowledge\", \"ai algorithms\", \"application programming\", \"problem solving\", \"search techniques\", \"uncertain knowledge\", \"concept\", \"reasoning\", \"basic principles\", \"agents\", \"logical\", \"intelligent agents\", \"rationality\", \"applications\", \"environments\"]}, {\"course_name\": \"COMP3270B\", \"keywords\": [\"logical knowledge\", \"ai algorithms\", \"application programming\", \"problem solving\", \"search techniques\", \"uncertain knowledge\", \"concept\", \"reasoning\", \"basic principles\", \"agents\", \"logical\", \"intelligent agents\", \"rationality\", \"applications\", \"environments\"]}, {\"course_name\": \"COMP3271\", \"keywords\": [\"computer graphics models\", \"line removal\", \"curves\", \"modelling\", \"opengl apis\", \"3d transformations\", \"surfaces\", \"computer graphics tools\", \"hidden\", \"viewing\", \"illumination models\", \"clipping\", \"colour models\", \"windowing\", \"computer graphics algorithms\", \"computer graphics concepts\", \"2d transformations\", \"overview\", \"surface\", \"shading\", \"basic drawing algorithms\", \"graphics hardware\"]}, {\"course_name\": \"COMP3314A\", \"keywords\": [\"linear classifiers\", \"data\", \"principles\", \"principal components analysis\", \"2\", \"unsupervised learning\", \"curve fitting\", \"mixture models\", \"driven systems\", \"gaussian processes\", \"logistic regression\", \"neural networks\", \"1\", \"supervised learning\", \"introduction\", \"ai\", \"advanced topics\", \"applications\", \"clustering\", \"3\", \"decision theory\"]}, {\"course_name\": \"COMP3314B\", \"keywords\": [\"linear classifiers\", \"data\", \"principles\", \"principal components analysis\", \"2\", \"unsupervised learning\", \"curve fitting\", \"mixture models\", \"driven systems\", \"gaussian processes\", \"logistic regression\", \"neural networks\", \"1\", \"supervised learning\", \"introduction\", \"ai\", \"advanced topics\", \"applications\", \"clustering\", \"3\", \"decision theory\"]}, {\"course_name\": \"COMP3316\", \"keywords\": [\"2\", \"quantum teleportation\", \"quantum communication\", \"composite systems\", \"quantum algorithms\", \"dense coding\", \"nonlocal games\", \"measurements\", \"quantum computation\", \"steering\", \"processes\", \"cloning\", \"quantum circuit model\", \"3\", \"quantum key distribution\", \"entanglement\", \"quantum states\", \"basic rules\"]}, {\"course_name\": \"COMP3317\", \"keywords\": [\"projection matrix\", \"homogeneous coordinates\", \"aperture problem\", \"qr decomposition\", \"color models\", \"sampling\", \"line\", \"connectivity\", \"schmidt process\", \"linear least squares\", \"structure recovery\", \"singular value decomposition\", \"2d edge detection\", \"epipolar geometry\", \"planar affine imaging\", \"coordinate system\", \"multi\", \"ccd imaging\", \"rigid body motion\", \"vanishing points\", \"image processing\", \"stereo vision\", \"ransac\", \"1d\", \"digital image representation\", \"invariants\", \"lines\", \"pinhole camera\", \"dynamic programming\", \"calibration\", \"world position\", \"weak\", \"distance measures\", \"correspondence problem\", \"triangulation\", \"arithmetic operations\", \"fundamental matrix\", \"sharpening filters\", \"gram\", \"essential matrix\", \"planar scene calibration\", \"smoothing\", \"false contouring\", \"cross\", \"affine cameras\", \"convolution\", \"ratio\", \"linear spatial filtering\", \"affine stereo\", \"camera model\", \"feature extraction\", \"perspective projection\", \"full camera model\", \"scale edge detection\", \"image interpretation\", \"essential matrix decomposition\", \"corner detection\", \"image structure\", \"nonlinear camera calibration\", \"logic\", \"recovery\", \"camera calibration\"]}, {\"course_name\": \"COMP3320\", \"keywords\": [\"comp3320 electronic commerce technology\", \"b2b e\", \"additional case studies\", \"2\", \"smart contract\", \"technology infrastructure\", \"payment\", \"marketing\", \"commerce server\", \"blockchain\", \"1\", \"lab sessions\", \"commerce security\", \"project\", \"introduction\", \"commerce\", \"web server\", \"b2c\", \"3\", \"e\"]}, {\"course_name\": \"COMP3322A\", \"keywords\": [\"cascading styling sheet\", \"state\", \"web technologies\", \"art web technologies\", \"www basics\", \"dynamic web programming\", \"web technology applications\", \"html\", \"dynamic web\"]}, {\"course_name\": \"COMP3322B\", \"keywords\": [\"cascading styling sheet\", \"state\", \"web technologies\", \"art web technologies\", \"www basics\", \"dynamic web programming\", \"web technology applications\", \"html\", \"dynamic web\"]}, {\"course_name\": \"COMP3329\", \"keywords\": [\"user interface\", \"2d\", \"game history\", \"connectivity\", \"motion\", \"game project\", \"control\", \"mmog design\", \"platform\", \"3d game\", \"consideration\", \"game\", \"industry visit\", \"devices\", \"team work\", \"introduction\", \"game platform overview\", \"3d modeling\", \"2d game\", \"ai\", \"presentation\", \"team\", \"kinematics\", \"design\", \"effect\"]}, {\"course_name\": \"COMP3330\", \"keywords\": [\"platform tools\", \"server supported mobile applications\", \"location services\", \"knowledge\", \"constraints\", \"integration\", \"project work\", \"mobile applications\", \"concurrency\", \"mobile application development\", \"sensors\", \"2\", \"mobile apps development\", \"5\", \"design patterns\", \"lifecycle\", \"modern cross\", \"1\", \"local database\", \"user interface design\", \"introduction\", \"4\", \"advanced topics\", \"multimedia\", \"fundamentals\", \"publication\", \"technical components\", \"testing\", \"graphics\", \"network\", \"3\", \"handling\", \"use\", \"basic principles\", \"mobile apps\"]}, {\"course_name\": \"COMP3340\", \"keywords\": [\"build neural networks\", \"train cnn_dqn\", \"play atari ., 2\", \"generative adversarial networks\", \"actor\", \"2\", \"celeba\", \"case\", \"backpropagation\", \"others\", \"able\", \"reinforcement learning\", \"hard attention\", \"finetune\", \"1\", \"sgd ., 2\", \"evaluate deep neural networks\", \"image recognition\", \"q\", \"convolutional neural networks\", \"introduction\", \"4\", \"alexnet\", \"others ., 2\", \"policy gradients\", \"3\", \"e\", \"critic\", \"learning\", \"rl basics\", \"evaluate srgan\", \"g\", \"face image generation\", \"super resolution\"]}, {\"course_name\": \"COMP3352\", \"keywords\": [\"1\", \"analysis\", \"complexity\", \"anarchy\", \"computing equilibria\", \"mechanism design\", \"case studies\", \"price\", \"algorithms\", \"equilibria\", \"3\", \"4\", \"economic theory\", \"algorithmic mechanism design\", \"equilibria concepts\", \"2\", \"concept\"]}, {\"course_name\": \"COMP3355\", \"keywords\": [\"analysis\", \"internet security\", \"cryptography\", \"2\", \"models\", \"authentication techniques\", \"web security\", \"access control methods\", \"symmetric key cryptography\", \"5\", \"computer\", \"network security\", \"cyber threat assessment\", \"secure systems\", \"penetration testing\", \"introduction\", \"4\", \"mobile code security\", \"network\", \"3\", \"public key cryptography\", \"application\", \"protection\"]}, {\"course_name\": \"COMP3356\", \"keywords\": [\"search\", \"inverse kinematics\", \"principles\", \"transformation\", \"robot state representation\", \"robot system\", \"multi\", \"multiple\", \"2\", \"path\", \"basic control\", \"pose estimation\", \"geometry\", \"motion planning\", \"trajectory optimization\", \"1\", \"configuration space\", \"mechanics\", \"advanced topics\", \"view geometry\", \"applications\", \"dynamics\", \"point clouds\", \"robotics\", \"perception\", \"3\", \"kinematics\"]}, {\"course_name\": \"COMP3357\", \"keywords\": [\"independent random bit generation ., 2\", \"fundamental ideas\", \"quantum cryptography\", \"public\", \"hash functions\", \"protocols\", \"random bit generators\", \"quantum key distribution\", \"cryptographic applications\", \"key encryption\", \"2\", \"pseudo\", \"modern cryptography\", \"quantum information\", \"stream ciphers\", \"computational complexity based theory\", \"symmetric cryptography\", \"one\", \"digital signatures\", \"hash function\", \"device\", \"basics\", \"authenticated key exchange\", \"block ciphers\", \"mac\", \"introduction\", \"4\", \"commerce\", \"bb84\", \"identification\", \"practical quantum cryptography\", \"3\", \"e\", \"public key cryptography\", \"trapdoor functions\", \"way\"]}, {\"course_name\": \"COMP3358\", \"keywords\": [\"spark\", \"reduce paradigm\", \"weak consistency models\", \"acid\", \"architectures\", \"distributed fault\", \"webservices\", \"parallel computing concepts\", \"amazon ec2 clouds\", \"facebook photo cache\", \"distributed consensus algorithms\", \"laws\", \"backup algorithms\", \"distributed\", \"distributed virtual machine primary\", \"dynamodb stores\", \"monads\", \"parallel computing architectures\", \"remote procedure calls\", \"phase commits\", \"computer network primitives\", \"hadoop\", \"tensorflow\", \"two\", \"message queues ), distributed transactions\", \"strong\", \"actors\", \"tolerant architectures\", \"map\", \"amdahl \\u2019\"]}, {\"course_name\": \"COMP3360\", \"keywords\": [\"learning shape deformation\", \"based methods\", \"1\", \"inverse kinematics\", \"skinning\", \"data driven character animation\", \"3\", \"physics based animation\", \"motion capture\", \"forward kinematics\", \"keyframe animation\", \"point\", \"character animation\", \"introduction\", \"learning physics\", \"2\", \"based animation\"]}, {\"course_name\": \"COMP3361\", \"keywords\": [\"seq2seq models\", \"lexicalized context\", \"cky algorithm\", \"trigram models\", \"features\", \"phrase\", \"bigram\", \"attention mechanism\", \"pretraining\", \"lstm gates\", \"tuning\", \"transformers\", \"advanced\", \"hidden markov models\", \"named\", \"multi\", \"neural structured prediction\", \"2\", \"language models\", \"neural machine translation\", \"rnn language models\", \"log\", \"fine\", \"dependency parsing\", \"em algorithm\", \"tagging\", \"backpropagation\", \"noisy channel model\", \"word2vec\", \"memm\", \"linear models\", \"natural language processing\", \"parameter estimation\", \"feedforward neural networks\", \"entity recognition\", \"dependency parsing ), 2\", \"based parsing\", \"bert\", \"ner ), generative models\", \"neural networks\", \"crf\", \"1\", \"context\", \"history\", \"smoothing\", \"gpt\", \"loss function\", \"learning ), regularization\", \"introduction\", \"feedforward networks\", \"g\", \"parsing\", \"word embeddings\", \"head words\", \"cfgs ), ambiguity\", \"head attention\", \"probabilistic context\", \"statistical machine translation\", \"computational graphs\", \"chain rule\", \"hmm ), viterbi algorithm\", \"lstms\", \"e\", \"recurrent networks\", \"alignment\", \"3\", \"syntactic structure\", \"free grammars\", \"computational linguistics\", \"based mt\", \"nlp\", \"pos tagging\", \"contextualized word representation\"]}, {\"course_name\": \"COMP3362\", \"keywords\": [\"2\", \"1\", \"art ai platforms\", \"experimentation cycle\", \"project\", \"ai methodologies\", \"presentation\", \"3\", \"problem identification\", \"introduction\", \"implementation\", \"4\", \"self\", \"demonstration\", \"tools\", \"paced learning\", \"selected state\"]}, {\"course_name\": \"COMP3407\", \"keywords\": [\"method\", \"qr decomposition\", \"newton method\", \"steepest descent method\", \"bisection method\", \"cholesky decomposition\", \"optimization\", \"integrate\", \"newton interpolation\", \"rounding errors\", \"floating point numbers\", \"pivoting\", \"lu\", \"lagrange interpolation\", \"optimization techniques\", \"richardson extrapolation\", \"computer arithmetic\", \"gaussian quadrature\", \"fitting\", \"proficient\", \"condition numbers iterative methods\", \"hermite interpolation\", \"interpolate data\", \"newton \\u2019\", \"piecewise polynomial interpolation\", \"composite rule\", \"absolute errors\", \"linear equation systems\", \"least squares data fitting\", \"qr\", \"cancellation\", \"relative\", \"cotes quadrature\", \"golden section search\", \"equation\", \"numerical instability ., solving linear system\", \"data interpolation\", \"differentiation\", \"normal equation\", \"application\", \"approximation\", \"non\", \"students\", \"differentiate numerical functions using forward difference approximation\", \"norms\", \"using gaussian elimination\", \"newton\", \"secant method respectively\", \"integration\", \"solve linear\"]}, {\"course_name\": \"FITE2010\", \"keywords\": [\"possible enhancements\", \"impact\", \"constructing\", \"distributed ledger\", \"existing distributed ledger platforms\", \"fite3011 distributed ledger\", \"possibilities\", \"ethereum )., cryptocurrency technology\", \"smart contracts\", \"blockchain\", \"designs\", \"existing platforms\", \"platform ., different cryptographic primitives\", \"platform ., programming\", \"introduction\", \"key components\", \"rationale behind\", \"distributed ledger technology\", \"limitations\", \"best fit\", \"distributed ledger ., applications\", \"new applications\", \"e\", \"design\", \"g\", \"application\", \"popular blockchain platform\"]}, {\"course_name\": \"FITE3010\", \"keywords\": [\"1\", \"association rule mining\", \"data integration\", \"textual big data\", \"3\", \"uncertain data management\", \"spatial networks\", \"information ranking\", \"course content\", \"4\", \"query evaluation\", \"data mining\", \"database indexing\", \"data clustering\", \"spatial big data\", \"2\", \"query optimization\"]}, {\"course_name\": \"FITE3012\", \"keywords\": [\"ecdlp\", \"payment fundamentals\", \"vairants );\", \"emerging technologies\", \"internet payment services\", \"impact\", \"hash functions\", \"case studies\", \"google wallet\", \"apple wallet\", \"advanced\", \"trends\", \"fite3012 e\", \"256\", \"160 ), e\", \"encryptions\", \"payment\", \"3d credit card payment protocols\", \"blockchain\", \"digital signatures\", \"specific cryptographic primitives\", \"set\", \"crypto\", \"bitcoin\", \"introduction\", \"ripemd\", \"legal issues\", \"payment systems\", \"mobile payment systems ., crypto\", \"zcash ), regulatory\", \"currency technologies\", \"mobile payment systems\", \"sha\", \"ecdsa ); concrete hash functions\", \"digital certificate\", \"cash\", \"ethereum\", \"electronic check\", \"currencies\", \"currency\", \"elliptic curve cryptography\", \"e\", \"monero\", \"payment ., different security mechanisms\", \"authentication protocols\", \"different types\", \"g\"]}]\n"
          ]
        }
      ]
    }
  ]
}